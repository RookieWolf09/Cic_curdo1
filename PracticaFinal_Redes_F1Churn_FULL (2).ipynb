{
  "cells": [
    {
      "cell_type": "markdown",
      "source": [
        "# Instituto Politécnico Nacional\n",
        "## Centro de Investigación en Cómputo\n",
        "### Departamento de Diplomados y Extensión Profesional\n",
        "Profesor: Alan Badillo Salas\n",
        "\n",
        "Alumno: David Ruben Contreras Trejo\n",
        "\n",
        "Mayo - Junio 2025. Ciudad de México.\n",
        "## Proyecto Final - Redes Neuronales\n",
        "## Predicción de Abandono de Pilotos de Fórmula 1\n"
      ],
      "metadata": {
        "id": "J4wc-CVisUEb"
      },
      "id": "J4wc-CVisUEb"
    },
    {
      "cell_type": "markdown",
      "source": [
        "# **Introducción**\n",
        "\n",
        "A lo largo del curso, he adquirido los conocimientos fundamentales sobre redes neuronales, sus estructuras, funciones de activación, tipos de pérdida y su aplicación práctica en problemas reales de clasificación y regresión. Gracias a esta formación, ahora soy capaz de construir y entrenar modelos de red neuronal con un enfoque técnico y analítico sólido.\n",
        "\n",
        "En esta proyecto final, aplique lo aprendido para resolver un caso del mundo real: predecir si un piloto de Fórmula 1 abandonará la competencia, utilizando un conjunto de datos reales con métricas de desempeño como posición en la parrilla, mejoras de carrera y porcentaje de poles ganadas. El problema es de tipo clasificación binaria, por lo que se usó la función de activación sigmoid en la capa de salida y la pérdida BinaryCrossentropy.\n",
        "\n",
        "Implemente tanto un modelo completo como uno simplificado, evalue su desempeño con precisión (accuracy), analice visualmente la influencia de cada variable y realice predicciones simuladas. Todo esto fue posible gracias al dominio de conceptos clave como capas densas, partición de datos, activaciones y entrenamiento supervisado."
      ],
      "metadata": {
        "id": "xyGKF_uZrdJI"
      },
      "id": "xyGKF_uZrdJI"
    },
    {
      "cell_type": "markdown",
      "id": "4923f86d",
      "metadata": {
        "id": "4923f86d"
      },
      "source": [
        "## Paso 1 — Adquisición del conjunto de datos\n",
        "**Código 74:** Cargar el conjunto de datos"
      ]
    },
    {
      "cell_type": "code",
      "execution_count": null,
      "id": "150f0dd1",
      "metadata": {
        "colab": {
          "base_uri": "https://localhost:8080/",
          "height": 342
        },
        "id": "150f0dd1",
        "outputId": "2d91de6b-4451-4dad-d220-f1ba2dd51c6a"
      },
      "outputs": [
        {
          "output_type": "execute_result",
          "data": {
            "text/plain": [
              "  idDriver       dtRef  dtLastSeen dtFirstSeen  dtIntervalMaxMin  qtRaces  \\\n",
              "0   albers  2007-08-05  2007-07-08  2005-03-06               854       46   \n",
              "1   albers  2007-07-22  2007-07-08  2005-03-06               854       46   \n",
              "2   albers  2007-07-08  2007-07-08  2005-03-06               854       46   \n",
              "3   albers  2007-07-01  2007-07-01  2005-03-06               847       45   \n",
              "4   albers  2007-06-17  2007-06-17  2005-03-06               833       44   \n",
              "\n",
              "   qtTeams  idTeam  qtLastSeenRace  avgGridPosition  ...  \\\n",
              "0        4  spyker               2        18.282609  ...   \n",
              "1        4  spyker               1        18.282609  ...   \n",
              "2        4  spyker               0        18.282609  ...   \n",
              "3        4  spyker               0        18.200000  ...   \n",
              "4        4  spyker               0        18.159091  ...   \n",
              "\n",
              "   avgGridPositionRaceLast40  medianGridPositionRaceLast40  \\\n",
              "0                     18.475                          18.0   \n",
              "1                     18.475                          18.0   \n",
              "2                     18.475                          18.0   \n",
              "3                     18.275                          18.0   \n",
              "4                     18.125                          18.0   \n",
              "\n",
              "   avgPositionRaceLast40  medianPositionRaceLast40  \\\n",
              "0                 15.775                      15.0   \n",
              "1                 15.775                      15.0   \n",
              "2                 15.775                      15.0   \n",
              "3                 15.750                      15.0   \n",
              "4                 15.675                      15.0   \n",
              "\n",
              "   totalPositionLiftRaceLast40  avgPositionLiftRaceLast40  \\\n",
              "0                          108                      2.700   \n",
              "1                          108                      2.700   \n",
              "2                          108                      2.700   \n",
              "3                          101                      2.525   \n",
              "4                           98                      2.450   \n",
              "\n",
              "   medianPositionLiftRaceLast40  pctPolePosititionRaceLast40  \\\n",
              "0                           3.0                          0.0   \n",
              "1                           3.0                          0.0   \n",
              "2                           3.0                          0.0   \n",
              "3                           3.0                          0.0   \n",
              "4                           3.0                          0.0   \n",
              "\n",
              "   pctPolewinRaceLast40  flChurn  \n",
              "0                   0.0        1  \n",
              "1                   0.0        1  \n",
              "2                   0.0        1  \n",
              "3                   0.0        1  \n",
              "4                   0.0        1  \n",
              "\n",
              "[5 rows x 66 columns]"
            ],
            "text/html": [
              "\n",
              "  <div id=\"df-e707783f-01b5-482c-96ce-ddf2e4ae49b1\" class=\"colab-df-container\">\n",
              "    <div>\n",
              "<style scoped>\n",
              "    .dataframe tbody tr th:only-of-type {\n",
              "        vertical-align: middle;\n",
              "    }\n",
              "\n",
              "    .dataframe tbody tr th {\n",
              "        vertical-align: top;\n",
              "    }\n",
              "\n",
              "    .dataframe thead th {\n",
              "        text-align: right;\n",
              "    }\n",
              "</style>\n",
              "<table border=\"1\" class=\"dataframe\">\n",
              "  <thead>\n",
              "    <tr style=\"text-align: right;\">\n",
              "      <th></th>\n",
              "      <th>idDriver</th>\n",
              "      <th>dtRef</th>\n",
              "      <th>dtLastSeen</th>\n",
              "      <th>dtFirstSeen</th>\n",
              "      <th>dtIntervalMaxMin</th>\n",
              "      <th>qtRaces</th>\n",
              "      <th>qtTeams</th>\n",
              "      <th>idTeam</th>\n",
              "      <th>qtLastSeenRace</th>\n",
              "      <th>avgGridPosition</th>\n",
              "      <th>...</th>\n",
              "      <th>avgGridPositionRaceLast40</th>\n",
              "      <th>medianGridPositionRaceLast40</th>\n",
              "      <th>avgPositionRaceLast40</th>\n",
              "      <th>medianPositionRaceLast40</th>\n",
              "      <th>totalPositionLiftRaceLast40</th>\n",
              "      <th>avgPositionLiftRaceLast40</th>\n",
              "      <th>medianPositionLiftRaceLast40</th>\n",
              "      <th>pctPolePosititionRaceLast40</th>\n",
              "      <th>pctPolewinRaceLast40</th>\n",
              "      <th>flChurn</th>\n",
              "    </tr>\n",
              "  </thead>\n",
              "  <tbody>\n",
              "    <tr>\n",
              "      <th>0</th>\n",
              "      <td>albers</td>\n",
              "      <td>2007-08-05</td>\n",
              "      <td>2007-07-08</td>\n",
              "      <td>2005-03-06</td>\n",
              "      <td>854</td>\n",
              "      <td>46</td>\n",
              "      <td>4</td>\n",
              "      <td>spyker</td>\n",
              "      <td>2</td>\n",
              "      <td>18.282609</td>\n",
              "      <td>...</td>\n",
              "      <td>18.475</td>\n",
              "      <td>18.0</td>\n",
              "      <td>15.775</td>\n",
              "      <td>15.0</td>\n",
              "      <td>108</td>\n",
              "      <td>2.700</td>\n",
              "      <td>3.0</td>\n",
              "      <td>0.0</td>\n",
              "      <td>0.0</td>\n",
              "      <td>1</td>\n",
              "    </tr>\n",
              "    <tr>\n",
              "      <th>1</th>\n",
              "      <td>albers</td>\n",
              "      <td>2007-07-22</td>\n",
              "      <td>2007-07-08</td>\n",
              "      <td>2005-03-06</td>\n",
              "      <td>854</td>\n",
              "      <td>46</td>\n",
              "      <td>4</td>\n",
              "      <td>spyker</td>\n",
              "      <td>1</td>\n",
              "      <td>18.282609</td>\n",
              "      <td>...</td>\n",
              "      <td>18.475</td>\n",
              "      <td>18.0</td>\n",
              "      <td>15.775</td>\n",
              "      <td>15.0</td>\n",
              "      <td>108</td>\n",
              "      <td>2.700</td>\n",
              "      <td>3.0</td>\n",
              "      <td>0.0</td>\n",
              "      <td>0.0</td>\n",
              "      <td>1</td>\n",
              "    </tr>\n",
              "    <tr>\n",
              "      <th>2</th>\n",
              "      <td>albers</td>\n",
              "      <td>2007-07-08</td>\n",
              "      <td>2007-07-08</td>\n",
              "      <td>2005-03-06</td>\n",
              "      <td>854</td>\n",
              "      <td>46</td>\n",
              "      <td>4</td>\n",
              "      <td>spyker</td>\n",
              "      <td>0</td>\n",
              "      <td>18.282609</td>\n",
              "      <td>...</td>\n",
              "      <td>18.475</td>\n",
              "      <td>18.0</td>\n",
              "      <td>15.775</td>\n",
              "      <td>15.0</td>\n",
              "      <td>108</td>\n",
              "      <td>2.700</td>\n",
              "      <td>3.0</td>\n",
              "      <td>0.0</td>\n",
              "      <td>0.0</td>\n",
              "      <td>1</td>\n",
              "    </tr>\n",
              "    <tr>\n",
              "      <th>3</th>\n",
              "      <td>albers</td>\n",
              "      <td>2007-07-01</td>\n",
              "      <td>2007-07-01</td>\n",
              "      <td>2005-03-06</td>\n",
              "      <td>847</td>\n",
              "      <td>45</td>\n",
              "      <td>4</td>\n",
              "      <td>spyker</td>\n",
              "      <td>0</td>\n",
              "      <td>18.200000</td>\n",
              "      <td>...</td>\n",
              "      <td>18.275</td>\n",
              "      <td>18.0</td>\n",
              "      <td>15.750</td>\n",
              "      <td>15.0</td>\n",
              "      <td>101</td>\n",
              "      <td>2.525</td>\n",
              "      <td>3.0</td>\n",
              "      <td>0.0</td>\n",
              "      <td>0.0</td>\n",
              "      <td>1</td>\n",
              "    </tr>\n",
              "    <tr>\n",
              "      <th>4</th>\n",
              "      <td>albers</td>\n",
              "      <td>2007-06-17</td>\n",
              "      <td>2007-06-17</td>\n",
              "      <td>2005-03-06</td>\n",
              "      <td>833</td>\n",
              "      <td>44</td>\n",
              "      <td>4</td>\n",
              "      <td>spyker</td>\n",
              "      <td>0</td>\n",
              "      <td>18.159091</td>\n",
              "      <td>...</td>\n",
              "      <td>18.125</td>\n",
              "      <td>18.0</td>\n",
              "      <td>15.675</td>\n",
              "      <td>15.0</td>\n",
              "      <td>98</td>\n",
              "      <td>2.450</td>\n",
              "      <td>3.0</td>\n",
              "      <td>0.0</td>\n",
              "      <td>0.0</td>\n",
              "      <td>1</td>\n",
              "    </tr>\n",
              "  </tbody>\n",
              "</table>\n",
              "<p>5 rows × 66 columns</p>\n",
              "</div>\n",
              "    <div class=\"colab-df-buttons\">\n",
              "\n",
              "  <div class=\"colab-df-container\">\n",
              "    <button class=\"colab-df-convert\" onclick=\"convertToInteractive('df-e707783f-01b5-482c-96ce-ddf2e4ae49b1')\"\n",
              "            title=\"Convert this dataframe to an interactive table.\"\n",
              "            style=\"display:none;\">\n",
              "\n",
              "  <svg xmlns=\"http://www.w3.org/2000/svg\" height=\"24px\" viewBox=\"0 -960 960 960\">\n",
              "    <path d=\"M120-120v-720h720v720H120Zm60-500h600v-160H180v160Zm220 220h160v-160H400v160Zm0 220h160v-160H400v160ZM180-400h160v-160H180v160Zm440 0h160v-160H620v160ZM180-180h160v-160H180v160Zm440 0h160v-160H620v160Z\"/>\n",
              "  </svg>\n",
              "    </button>\n",
              "\n",
              "  <style>\n",
              "    .colab-df-container {\n",
              "      display:flex;\n",
              "      gap: 12px;\n",
              "    }\n",
              "\n",
              "    .colab-df-convert {\n",
              "      background-color: #E8F0FE;\n",
              "      border: none;\n",
              "      border-radius: 50%;\n",
              "      cursor: pointer;\n",
              "      display: none;\n",
              "      fill: #1967D2;\n",
              "      height: 32px;\n",
              "      padding: 0 0 0 0;\n",
              "      width: 32px;\n",
              "    }\n",
              "\n",
              "    .colab-df-convert:hover {\n",
              "      background-color: #E2EBFA;\n",
              "      box-shadow: 0px 1px 2px rgba(60, 64, 67, 0.3), 0px 1px 3px 1px rgba(60, 64, 67, 0.15);\n",
              "      fill: #174EA6;\n",
              "    }\n",
              "\n",
              "    .colab-df-buttons div {\n",
              "      margin-bottom: 4px;\n",
              "    }\n",
              "\n",
              "    [theme=dark] .colab-df-convert {\n",
              "      background-color: #3B4455;\n",
              "      fill: #D2E3FC;\n",
              "    }\n",
              "\n",
              "    [theme=dark] .colab-df-convert:hover {\n",
              "      background-color: #434B5C;\n",
              "      box-shadow: 0px 1px 3px 1px rgba(0, 0, 0, 0.15);\n",
              "      filter: drop-shadow(0px 1px 2px rgba(0, 0, 0, 0.3));\n",
              "      fill: #FFFFFF;\n",
              "    }\n",
              "  </style>\n",
              "\n",
              "    <script>\n",
              "      const buttonEl =\n",
              "        document.querySelector('#df-e707783f-01b5-482c-96ce-ddf2e4ae49b1 button.colab-df-convert');\n",
              "      buttonEl.style.display =\n",
              "        google.colab.kernel.accessAllowed ? 'block' : 'none';\n",
              "\n",
              "      async function convertToInteractive(key) {\n",
              "        const element = document.querySelector('#df-e707783f-01b5-482c-96ce-ddf2e4ae49b1');\n",
              "        const dataTable =\n",
              "          await google.colab.kernel.invokeFunction('convertToInteractive',\n",
              "                                                    [key], {});\n",
              "        if (!dataTable) return;\n",
              "\n",
              "        const docLinkHtml = 'Like what you see? Visit the ' +\n",
              "          '<a target=\"_blank\" href=https://colab.research.google.com/notebooks/data_table.ipynb>data table notebook</a>'\n",
              "          + ' to learn more about interactive tables.';\n",
              "        element.innerHTML = '';\n",
              "        dataTable['output_type'] = 'display_data';\n",
              "        await google.colab.output.renderOutput(dataTable, element);\n",
              "        const docLink = document.createElement('div');\n",
              "        docLink.innerHTML = docLinkHtml;\n",
              "        element.appendChild(docLink);\n",
              "      }\n",
              "    </script>\n",
              "  </div>\n",
              "\n",
              "\n",
              "    <div id=\"df-f2482b94-774d-4c4e-801f-65e99ab32bd7\">\n",
              "      <button class=\"colab-df-quickchart\" onclick=\"quickchart('df-f2482b94-774d-4c4e-801f-65e99ab32bd7')\"\n",
              "                title=\"Suggest charts\"\n",
              "                style=\"display:none;\">\n",
              "\n",
              "<svg xmlns=\"http://www.w3.org/2000/svg\" height=\"24px\"viewBox=\"0 0 24 24\"\n",
              "     width=\"24px\">\n",
              "    <g>\n",
              "        <path d=\"M19 3H5c-1.1 0-2 .9-2 2v14c0 1.1.9 2 2 2h14c1.1 0 2-.9 2-2V5c0-1.1-.9-2-2-2zM9 17H7v-7h2v7zm4 0h-2V7h2v10zm4 0h-2v-4h2v4z\"/>\n",
              "    </g>\n",
              "</svg>\n",
              "      </button>\n",
              "\n",
              "<style>\n",
              "  .colab-df-quickchart {\n",
              "      --bg-color: #E8F0FE;\n",
              "      --fill-color: #1967D2;\n",
              "      --hover-bg-color: #E2EBFA;\n",
              "      --hover-fill-color: #174EA6;\n",
              "      --disabled-fill-color: #AAA;\n",
              "      --disabled-bg-color: #DDD;\n",
              "  }\n",
              "\n",
              "  [theme=dark] .colab-df-quickchart {\n",
              "      --bg-color: #3B4455;\n",
              "      --fill-color: #D2E3FC;\n",
              "      --hover-bg-color: #434B5C;\n",
              "      --hover-fill-color: #FFFFFF;\n",
              "      --disabled-bg-color: #3B4455;\n",
              "      --disabled-fill-color: #666;\n",
              "  }\n",
              "\n",
              "  .colab-df-quickchart {\n",
              "    background-color: var(--bg-color);\n",
              "    border: none;\n",
              "    border-radius: 50%;\n",
              "    cursor: pointer;\n",
              "    display: none;\n",
              "    fill: var(--fill-color);\n",
              "    height: 32px;\n",
              "    padding: 0;\n",
              "    width: 32px;\n",
              "  }\n",
              "\n",
              "  .colab-df-quickchart:hover {\n",
              "    background-color: var(--hover-bg-color);\n",
              "    box-shadow: 0 1px 2px rgba(60, 64, 67, 0.3), 0 1px 3px 1px rgba(60, 64, 67, 0.15);\n",
              "    fill: var(--button-hover-fill-color);\n",
              "  }\n",
              "\n",
              "  .colab-df-quickchart-complete:disabled,\n",
              "  .colab-df-quickchart-complete:disabled:hover {\n",
              "    background-color: var(--disabled-bg-color);\n",
              "    fill: var(--disabled-fill-color);\n",
              "    box-shadow: none;\n",
              "  }\n",
              "\n",
              "  .colab-df-spinner {\n",
              "    border: 2px solid var(--fill-color);\n",
              "    border-color: transparent;\n",
              "    border-bottom-color: var(--fill-color);\n",
              "    animation:\n",
              "      spin 1s steps(1) infinite;\n",
              "  }\n",
              "\n",
              "  @keyframes spin {\n",
              "    0% {\n",
              "      border-color: transparent;\n",
              "      border-bottom-color: var(--fill-color);\n",
              "      border-left-color: var(--fill-color);\n",
              "    }\n",
              "    20% {\n",
              "      border-color: transparent;\n",
              "      border-left-color: var(--fill-color);\n",
              "      border-top-color: var(--fill-color);\n",
              "    }\n",
              "    30% {\n",
              "      border-color: transparent;\n",
              "      border-left-color: var(--fill-color);\n",
              "      border-top-color: var(--fill-color);\n",
              "      border-right-color: var(--fill-color);\n",
              "    }\n",
              "    40% {\n",
              "      border-color: transparent;\n",
              "      border-right-color: var(--fill-color);\n",
              "      border-top-color: var(--fill-color);\n",
              "    }\n",
              "    60% {\n",
              "      border-color: transparent;\n",
              "      border-right-color: var(--fill-color);\n",
              "    }\n",
              "    80% {\n",
              "      border-color: transparent;\n",
              "      border-right-color: var(--fill-color);\n",
              "      border-bottom-color: var(--fill-color);\n",
              "    }\n",
              "    90% {\n",
              "      border-color: transparent;\n",
              "      border-bottom-color: var(--fill-color);\n",
              "    }\n",
              "  }\n",
              "</style>\n",
              "\n",
              "      <script>\n",
              "        async function quickchart(key) {\n",
              "          const quickchartButtonEl =\n",
              "            document.querySelector('#' + key + ' button');\n",
              "          quickchartButtonEl.disabled = true;  // To prevent multiple clicks.\n",
              "          quickchartButtonEl.classList.add('colab-df-spinner');\n",
              "          try {\n",
              "            const charts = await google.colab.kernel.invokeFunction(\n",
              "                'suggestCharts', [key], {});\n",
              "          } catch (error) {\n",
              "            console.error('Error during call to suggestCharts:', error);\n",
              "          }\n",
              "          quickchartButtonEl.classList.remove('colab-df-spinner');\n",
              "          quickchartButtonEl.classList.add('colab-df-quickchart-complete');\n",
              "        }\n",
              "        (() => {\n",
              "          let quickchartButtonEl =\n",
              "            document.querySelector('#df-f2482b94-774d-4c4e-801f-65e99ab32bd7 button');\n",
              "          quickchartButtonEl.style.display =\n",
              "            google.colab.kernel.accessAllowed ? 'block' : 'none';\n",
              "        })();\n",
              "      </script>\n",
              "    </div>\n",
              "\n",
              "    </div>\n",
              "  </div>\n"
            ],
            "application/vnd.google.colaboratory.intrinsic+json": {
              "type": "dataframe",
              "variable_name": "df"
            }
          },
          "metadata": {},
          "execution_count": 1
        }
      ],
      "source": [
        "import pandas as pd\n",
        "\n",
        "df = pd.read_csv(\"https://github.com/RookieWolf09/Cic_curdo1/raw/refs/heads/main/f1_churn_dataset_train.csv\", sep=\";\")\n",
        "df.head()"
      ]
    },
    {
      "cell_type": "markdown",
      "source": [
        "**Paso 1 — Adquisición del conjunto de datos**\n",
        "\n",
        "**Preguntas:**\n",
        "\n",
        "**¿Cuál debería ser la variable de respuesta?**\n",
        "\n",
        "La variable de respuesta es flChurn, ya que indica si un piloto abandonó (1) o no (0).\n",
        "\n",
        "**¿Es mejor predecir un valor continuo o binario?**\n",
        "\n",
        "En este caso, binario. Queremos clasificar si abandonará o no.\n",
        "\n",
        "**¿La red neuronal es mejor para clasificación o regresión?**\n",
        "\n",
        "Es adecuada para ambas, pero este caso es de clasificación binaria, por lo que se ajusta perfectamente al uso de una red neuronal con sigmoid."
      ],
      "metadata": {
        "id": "3vvKFCyKpZDq"
      },
      "id": "3vvKFCyKpZDq"
    },
    {
      "cell_type": "markdown",
      "id": "c1c5cf38",
      "metadata": {
        "id": "c1c5cf38"
      },
      "source": [
        "## Paso 2 — Construcción de variables de análisis\n",
        "**Código 75:** Selección de variables"
      ]
    },
    {
      "cell_type": "code",
      "execution_count": null,
      "id": "3c938cbe",
      "metadata": {
        "id": "3c938cbe"
      },
      "outputs": [],
      "source": [
        "x1 = df[\"avgGridPosition\"]\n",
        "x2 = df[\"avgPosition\"]\n",
        "x3 = df[\"avgPositionLift\"]\n",
        "x4 = df[\"pctPolePositition\"]\n",
        "x5 = df[\"pctPolewin\"]\n",
        "y  = df[\"flChurn\"]"
      ]
    },
    {
      "cell_type": "markdown",
      "source": [
        "**Paso 2 — Construcción de las variables de análisis**\n",
        "\n",
        "**Preguntas:**\n",
        "\n",
        "**¿Crees que todas las variables pueden explicar si habrá abandono?**\n",
        "\n",
        "No necesariamente todas, pero las variables seleccionadas (avgGridPosition, avgPosition, avgPositionLift, pctPolePositition, pctPolewin) están relacionadas directamente con el rendimiento, lo cual puede influir en el abandono.\n",
        "\n",
        "**¿Cuál crees que es un buen porcentaje de aprendizaje en una red neuronal?**\n",
        "\n",
        "Una precisión entre 75% y 90% es considerada buena para tareas de clasificación binaria. En este caso, obtuvimos 78.2%, lo cual es aceptable"
      ],
      "metadata": {
        "id": "YtuyaIrnp1EG"
      },
      "id": "YtuyaIrnp1EG"
    },
    {
      "cell_type": "markdown",
      "id": "e120033b",
      "metadata": {
        "id": "e120033b"
      },
      "source": [
        "## Paso 3 — Modelo completo de red neuronal"
      ]
    },
    {
      "cell_type": "code",
      "execution_count": null,
      "id": "51903c48",
      "metadata": {
        "id": "51903c48"
      },
      "outputs": [],
      "source": [
        "import numpy as np\n",
        "\n",
        "X = np.array([x1, x2, x3, x4, x5]).T\n",
        "Y = y"
      ]
    },
    {
      "cell_type": "code",
      "execution_count": null,
      "id": "de2aa463",
      "metadata": {
        "id": "de2aa463"
      },
      "outputs": [],
      "source": [
        "from sklearn.model_selection import train_test_split\n",
        "\n",
        "X_train, X_test, Y_train, Y_test = train_test_split(X, Y, train_size=0.8)"
      ]
    },
    {
      "cell_type": "code",
      "execution_count": null,
      "id": "8d4b1aa5",
      "metadata": {
        "colab": {
          "base_uri": "https://localhost:8080/",
          "height": 204
        },
        "id": "8d4b1aa5",
        "outputId": "9a6b58b8-26b6-498b-df80-dd6dd6a8cda6"
      },
      "outputs": [
        {
          "output_type": "display_data",
          "data": {
            "text/plain": [
              "\u001b[1mModel: \"sequential\"\u001b[0m\n"
            ],
            "text/html": [
              "<pre style=\"white-space:pre;overflow-x:auto;line-height:normal;font-family:Menlo,'DejaVu Sans Mono',consolas,'Courier New',monospace\"><span style=\"font-weight: bold\">Model: \"sequential\"</span>\n",
              "</pre>\n"
            ]
          },
          "metadata": {}
        },
        {
          "output_type": "display_data",
          "data": {
            "text/plain": [
              "┏━━━━━━━━━━━━━━━━━━━━━━━━━━━━━━━━━┳━━━━━━━━━━━━━━━━━━━━━━━━┳━━━━━━━━━━━━━━━┓\n",
              "┃\u001b[1m \u001b[0m\u001b[1mLayer (type)                   \u001b[0m\u001b[1m \u001b[0m┃\u001b[1m \u001b[0m\u001b[1mOutput Shape          \u001b[0m\u001b[1m \u001b[0m┃\u001b[1m \u001b[0m\u001b[1m      Param #\u001b[0m\u001b[1m \u001b[0m┃\n",
              "┡━━━━━━━━━━━━━━━━━━━━━━━━━━━━━━━━━╇━━━━━━━━━━━━━━━━━━━━━━━━╇━━━━━━━━━━━━━━━┩\n",
              "│ dense (\u001b[38;5;33mDense\u001b[0m)                   │ (\u001b[38;5;45mNone\u001b[0m, \u001b[38;5;34m100\u001b[0m)            │           \u001b[38;5;34m600\u001b[0m │\n",
              "├─────────────────────────────────┼────────────────────────┼───────────────┤\n",
              "│ dense_1 (\u001b[38;5;33mDense\u001b[0m)                 │ (\u001b[38;5;45mNone\u001b[0m, \u001b[38;5;34m1\u001b[0m)              │           \u001b[38;5;34m101\u001b[0m │\n",
              "└─────────────────────────────────┴────────────────────────┴───────────────┘\n"
            ],
            "text/html": [
              "<pre style=\"white-space:pre;overflow-x:auto;line-height:normal;font-family:Menlo,'DejaVu Sans Mono',consolas,'Courier New',monospace\">┏━━━━━━━━━━━━━━━━━━━━━━━━━━━━━━━━━┳━━━━━━━━━━━━━━━━━━━━━━━━┳━━━━━━━━━━━━━━━┓\n",
              "┃<span style=\"font-weight: bold\"> Layer (type)                    </span>┃<span style=\"font-weight: bold\"> Output Shape           </span>┃<span style=\"font-weight: bold\">       Param # </span>┃\n",
              "┡━━━━━━━━━━━━━━━━━━━━━━━━━━━━━━━━━╇━━━━━━━━━━━━━━━━━━━━━━━━╇━━━━━━━━━━━━━━━┩\n",
              "│ dense (<span style=\"color: #0087ff; text-decoration-color: #0087ff\">Dense</span>)                   │ (<span style=\"color: #00d7ff; text-decoration-color: #00d7ff\">None</span>, <span style=\"color: #00af00; text-decoration-color: #00af00\">100</span>)            │           <span style=\"color: #00af00; text-decoration-color: #00af00\">600</span> │\n",
              "├─────────────────────────────────┼────────────────────────┼───────────────┤\n",
              "│ dense_1 (<span style=\"color: #0087ff; text-decoration-color: #0087ff\">Dense</span>)                 │ (<span style=\"color: #00d7ff; text-decoration-color: #00d7ff\">None</span>, <span style=\"color: #00af00; text-decoration-color: #00af00\">1</span>)              │           <span style=\"color: #00af00; text-decoration-color: #00af00\">101</span> │\n",
              "└─────────────────────────────────┴────────────────────────┴───────────────┘\n",
              "</pre>\n"
            ]
          },
          "metadata": {}
        },
        {
          "output_type": "display_data",
          "data": {
            "text/plain": [
              "\u001b[1m Total params: \u001b[0m\u001b[38;5;34m701\u001b[0m (2.74 KB)\n"
            ],
            "text/html": [
              "<pre style=\"white-space:pre;overflow-x:auto;line-height:normal;font-family:Menlo,'DejaVu Sans Mono',consolas,'Courier New',monospace\"><span style=\"font-weight: bold\"> Total params: </span><span style=\"color: #00af00; text-decoration-color: #00af00\">701</span> (2.74 KB)\n",
              "</pre>\n"
            ]
          },
          "metadata": {}
        },
        {
          "output_type": "display_data",
          "data": {
            "text/plain": [
              "\u001b[1m Trainable params: \u001b[0m\u001b[38;5;34m701\u001b[0m (2.74 KB)\n"
            ],
            "text/html": [
              "<pre style=\"white-space:pre;overflow-x:auto;line-height:normal;font-family:Menlo,'DejaVu Sans Mono',consolas,'Courier New',monospace\"><span style=\"font-weight: bold\"> Trainable params: </span><span style=\"color: #00af00; text-decoration-color: #00af00\">701</span> (2.74 KB)\n",
              "</pre>\n"
            ]
          },
          "metadata": {}
        },
        {
          "output_type": "display_data",
          "data": {
            "text/plain": [
              "\u001b[1m Non-trainable params: \u001b[0m\u001b[38;5;34m0\u001b[0m (0.00 B)\n"
            ],
            "text/html": [
              "<pre style=\"white-space:pre;overflow-x:auto;line-height:normal;font-family:Menlo,'DejaVu Sans Mono',consolas,'Courier New',monospace\"><span style=\"font-weight: bold\"> Non-trainable params: </span><span style=\"color: #00af00; text-decoration-color: #00af00\">0</span> (0.00 B)\n",
              "</pre>\n"
            ]
          },
          "metadata": {}
        }
      ],
      "source": [
        "from keras import Sequential\n",
        "from keras.layers import Input, Dense\n",
        "from keras.optimizers import Adam\n",
        "from keras.losses import BinaryCrossentropy\n",
        "\n",
        "model = Sequential([\n",
        "    Input(shape=(5,)),\n",
        "    Dense(100, activation=\"relu\"),\n",
        "    Dense(1, activation=\"sigmoid\")\n",
        "])\n",
        "\n",
        "model.compile(optimizer=Adam(), loss=BinaryCrossentropy(), metrics=[\"accuracy\"])\n",
        "model.summary()"
      ]
    },
    {
      "cell_type": "code",
      "execution_count": null,
      "id": "4b6c615d",
      "metadata": {
        "colab": {
          "base_uri": "https://localhost:8080/"
        },
        "id": "4b6c615d",
        "outputId": "568a54da-29d4-483b-ad17-236bbf11247b"
      },
      "outputs": [
        {
          "output_type": "stream",
          "name": "stdout",
          "text": [
            "Epoch 1/20\n",
            "\u001b[1m405/405\u001b[0m \u001b[32m━━━━━━━━━━━━━━━━━━━━\u001b[0m\u001b[37m\u001b[0m \u001b[1m2s\u001b[0m 3ms/step - accuracy: 0.7563 - loss: 0.5460\n",
            "Epoch 2/20\n",
            "\u001b[1m405/405\u001b[0m \u001b[32m━━━━━━━━━━━━━━━━━━━━\u001b[0m\u001b[37m\u001b[0m \u001b[1m2s\u001b[0m 2ms/step - accuracy: 0.7981 - loss: 0.4794\n",
            "Epoch 3/20\n",
            "\u001b[1m405/405\u001b[0m \u001b[32m━━━━━━━━━━━━━━━━━━━━\u001b[0m\u001b[37m\u001b[0m \u001b[1m1s\u001b[0m 2ms/step - accuracy: 0.7870 - loss: 0.4757\n",
            "Epoch 4/20\n",
            "\u001b[1m405/405\u001b[0m \u001b[32m━━━━━━━━━━━━━━━━━━━━\u001b[0m\u001b[37m\u001b[0m \u001b[1m1s\u001b[0m 2ms/step - accuracy: 0.8008 - loss: 0.4584\n",
            "Epoch 5/20\n",
            "\u001b[1m405/405\u001b[0m \u001b[32m━━━━━━━━━━━━━━━━━━━━\u001b[0m\u001b[37m\u001b[0m \u001b[1m1s\u001b[0m 2ms/step - accuracy: 0.8051 - loss: 0.4520\n",
            "Epoch 6/20\n",
            "\u001b[1m405/405\u001b[0m \u001b[32m━━━━━━━━━━━━━━━━━━━━\u001b[0m\u001b[37m\u001b[0m \u001b[1m1s\u001b[0m 2ms/step - accuracy: 0.7918 - loss: 0.4687\n",
            "Epoch 7/20\n",
            "\u001b[1m405/405\u001b[0m \u001b[32m━━━━━━━━━━━━━━━━━━━━\u001b[0m\u001b[37m\u001b[0m \u001b[1m1s\u001b[0m 2ms/step - accuracy: 0.7982 - loss: 0.4598\n",
            "Epoch 8/20\n",
            "\u001b[1m405/405\u001b[0m \u001b[32m━━━━━━━━━━━━━━━━━━━━\u001b[0m\u001b[37m\u001b[0m \u001b[1m1s\u001b[0m 2ms/step - accuracy: 0.7976 - loss: 0.4558\n",
            "Epoch 9/20\n",
            "\u001b[1m405/405\u001b[0m \u001b[32m━━━━━━━━━━━━━━━━━━━━\u001b[0m\u001b[37m\u001b[0m \u001b[1m1s\u001b[0m 2ms/step - accuracy: 0.8005 - loss: 0.4472\n",
            "Epoch 10/20\n",
            "\u001b[1m405/405\u001b[0m \u001b[32m━━━━━━━━━━━━━━━━━━━━\u001b[0m\u001b[37m\u001b[0m \u001b[1m2s\u001b[0m 3ms/step - accuracy: 0.7862 - loss: 0.4595\n",
            "Epoch 11/20\n",
            "\u001b[1m405/405\u001b[0m \u001b[32m━━━━━━━━━━━━━━━━━━━━\u001b[0m\u001b[37m\u001b[0m \u001b[1m1s\u001b[0m 3ms/step - accuracy: 0.7943 - loss: 0.4580\n",
            "Epoch 12/20\n",
            "\u001b[1m405/405\u001b[0m \u001b[32m━━━━━━━━━━━━━━━━━━━━\u001b[0m\u001b[37m\u001b[0m \u001b[1m1s\u001b[0m 2ms/step - accuracy: 0.8059 - loss: 0.4429\n",
            "Epoch 13/20\n",
            "\u001b[1m405/405\u001b[0m \u001b[32m━━━━━━━━━━━━━━━━━━━━\u001b[0m\u001b[37m\u001b[0m \u001b[1m1s\u001b[0m 2ms/step - accuracy: 0.7993 - loss: 0.4476\n",
            "Epoch 14/20\n",
            "\u001b[1m405/405\u001b[0m \u001b[32m━━━━━━━━━━━━━━━━━━━━\u001b[0m\u001b[37m\u001b[0m \u001b[1m1s\u001b[0m 2ms/step - accuracy: 0.7983 - loss: 0.4494\n",
            "Epoch 15/20\n",
            "\u001b[1m405/405\u001b[0m \u001b[32m━━━━━━━━━━━━━━━━━━━━\u001b[0m\u001b[37m\u001b[0m \u001b[1m1s\u001b[0m 2ms/step - accuracy: 0.7977 - loss: 0.4492\n",
            "Epoch 16/20\n",
            "\u001b[1m405/405\u001b[0m \u001b[32m━━━━━━━━━━━━━━━━━━━━\u001b[0m\u001b[37m\u001b[0m \u001b[1m1s\u001b[0m 2ms/step - accuracy: 0.7951 - loss: 0.4490\n",
            "Epoch 17/20\n",
            "\u001b[1m405/405\u001b[0m \u001b[32m━━━━━━━━━━━━━━━━━━━━\u001b[0m\u001b[37m\u001b[0m \u001b[1m1s\u001b[0m 2ms/step - accuracy: 0.7988 - loss: 0.4420\n",
            "Epoch 18/20\n",
            "\u001b[1m405/405\u001b[0m \u001b[32m━━━━━━━━━━━━━━━━━━━━\u001b[0m\u001b[37m\u001b[0m \u001b[1m1s\u001b[0m 2ms/step - accuracy: 0.7961 - loss: 0.4495\n",
            "Epoch 19/20\n",
            "\u001b[1m405/405\u001b[0m \u001b[32m━━━━━━━━━━━━━━━━━━━━\u001b[0m\u001b[37m\u001b[0m \u001b[1m1s\u001b[0m 2ms/step - accuracy: 0.7994 - loss: 0.4500\n",
            "Epoch 20/20\n",
            "\u001b[1m405/405\u001b[0m \u001b[32m━━━━━━━━━━━━━━━━━━━━\u001b[0m\u001b[37m\u001b[0m \u001b[1m2s\u001b[0m 3ms/step - accuracy: 0.7991 - loss: 0.4473\n"
          ]
        },
        {
          "output_type": "execute_result",
          "data": {
            "text/plain": [
              "<keras.src.callbacks.history.History at 0x79e8a47d9210>"
            ]
          },
          "metadata": {},
          "execution_count": 6
        }
      ],
      "source": [
        "model.fit(X_train, Y_train, batch_size=20, epochs=20)"
      ]
    },
    {
      "cell_type": "code",
      "execution_count": null,
      "id": "e4c0477b",
      "metadata": {
        "colab": {
          "base_uri": "https://localhost:8080/"
        },
        "id": "e4c0477b",
        "outputId": "3fac9e26-0461-4b1e-9103-d468fb878d20"
      },
      "outputs": [
        {
          "output_type": "stream",
          "name": "stdout",
          "text": [
            "\u001b[1m64/64\u001b[0m \u001b[32m━━━━━━━━━━━━━━━━━━━━\u001b[0m\u001b[37m\u001b[0m \u001b[1m0s\u001b[0m 3ms/step - accuracy: 0.7995 - loss: 0.4332\n"
          ]
        },
        {
          "output_type": "execute_result",
          "data": {
            "text/plain": [
              "[0.4488423466682434, 0.7852548360824585]"
            ]
          },
          "metadata": {},
          "execution_count": 7
        }
      ],
      "source": [
        "model.evaluate(X_test, Y_test)"
      ]
    },
    {
      "cell_type": "markdown",
      "source": [
        "**Paso 3 — Modelo de la Red Neuronal completa**\n",
        "\n",
        "**Preguntas:**\n",
        "\n",
        "**¿Por qué la capa de salida tiene un único nodo de tipo sigmoid?**\n",
        "\n",
        "Porque flChurn es una variable binaria. Sigmoid produce una probabilidad entre 0 y 1.\n",
        "\n",
        "**¿Por qué la capa oculta tiene 100 nodos?**\n",
        "\n",
        "Es una cantidad intermedia que proporciona buena capacidad de aprendizaje sin sobrecargar el modelo.\n",
        "\n",
        "**¿Qué pasa si aumentamos la capa oculta a 200 nodos?**\n",
        "\n",
        "Podría mejorar el aprendizaje si hay suficientes datos, pero también podría causar sobreajuste.\n",
        "\n",
        "**¿Qué pasa si agregamos otra capa oculta de 20 nodos?**\n",
        "\n",
        "Se podría aumentar la capacidad de aprendizaje para relaciones no lineales más complejas, aunque se corre el riesgo de complicar el modelo innecesariamente.\n",
        "\n",
        "**¿Por qué se usa la función de pérdida BinaryCrossEntropy?**\n",
        "\n",
        "Porque flChurn es una variable binaria, y esta función mide la diferencia entre las predicciones probabilísticas y los valores reales.\n",
        "\n",
        "**¿Cómo varía la precisión alcanzada durante las épocas de entrenamiento?**\n",
        "\n",
        "Inicialmente sube rápidamente, luego se estabiliza. En tu caso, terminó en 78.2%, mostrando buen ajuste sin señales fuertes de sobreajuste.\n",
        "\n",
        "**¿Cuál es la precisión real?**\n",
        "\n",
        "78.2%, como se observó en la evaluación con datos de prueba (model.evaluate)."
      ],
      "metadata": {
        "id": "tPFlnCu5qP1a"
      },
      "id": "tPFlnCu5qP1a"
    },
    {
      "cell_type": "markdown",
      "id": "464008d4",
      "metadata": {
        "id": "464008d4"
      },
      "source": [
        "## Paso 4 — Modelo simplificado"
      ]
    },
    {
      "cell_type": "code",
      "execution_count": null,
      "id": "ac5c8292",
      "metadata": {
        "id": "ac5c8292"
      },
      "outputs": [],
      "source": [
        "X = np.array([x1, x3, x5]).T\n",
        "Y = y"
      ]
    },
    {
      "cell_type": "code",
      "execution_count": null,
      "id": "64497493",
      "metadata": {
        "id": "64497493"
      },
      "outputs": [],
      "source": [
        "X_train, X_test, Y_train, Y_test = train_test_split(X, Y, train_size=0.8)"
      ]
    },
    {
      "cell_type": "code",
      "execution_count": null,
      "id": "b62e6c46",
      "metadata": {
        "colab": {
          "base_uri": "https://localhost:8080/",
          "height": 204
        },
        "id": "b62e6c46",
        "outputId": "c8aa6894-eb39-4dc3-accf-7922e8959f03"
      },
      "outputs": [
        {
          "output_type": "display_data",
          "data": {
            "text/plain": [
              "\u001b[1mModel: \"sequential_1\"\u001b[0m\n"
            ],
            "text/html": [
              "<pre style=\"white-space:pre;overflow-x:auto;line-height:normal;font-family:Menlo,'DejaVu Sans Mono',consolas,'Courier New',monospace\"><span style=\"font-weight: bold\">Model: \"sequential_1\"</span>\n",
              "</pre>\n"
            ]
          },
          "metadata": {}
        },
        {
          "output_type": "display_data",
          "data": {
            "text/plain": [
              "┏━━━━━━━━━━━━━━━━━━━━━━━━━━━━━━━━━┳━━━━━━━━━━━━━━━━━━━━━━━━┳━━━━━━━━━━━━━━━┓\n",
              "┃\u001b[1m \u001b[0m\u001b[1mLayer (type)                   \u001b[0m\u001b[1m \u001b[0m┃\u001b[1m \u001b[0m\u001b[1mOutput Shape          \u001b[0m\u001b[1m \u001b[0m┃\u001b[1m \u001b[0m\u001b[1m      Param #\u001b[0m\u001b[1m \u001b[0m┃\n",
              "┡━━━━━━━━━━━━━━━━━━━━━━━━━━━━━━━━━╇━━━━━━━━━━━━━━━━━━━━━━━━╇━━━━━━━━━━━━━━━┩\n",
              "│ dense_2 (\u001b[38;5;33mDense\u001b[0m)                 │ (\u001b[38;5;45mNone\u001b[0m, \u001b[38;5;34m100\u001b[0m)            │           \u001b[38;5;34m400\u001b[0m │\n",
              "├─────────────────────────────────┼────────────────────────┼───────────────┤\n",
              "│ dense_3 (\u001b[38;5;33mDense\u001b[0m)                 │ (\u001b[38;5;45mNone\u001b[0m, \u001b[38;5;34m1\u001b[0m)              │           \u001b[38;5;34m101\u001b[0m │\n",
              "└─────────────────────────────────┴────────────────────────┴───────────────┘\n"
            ],
            "text/html": [
              "<pre style=\"white-space:pre;overflow-x:auto;line-height:normal;font-family:Menlo,'DejaVu Sans Mono',consolas,'Courier New',monospace\">┏━━━━━━━━━━━━━━━━━━━━━━━━━━━━━━━━━┳━━━━━━━━━━━━━━━━━━━━━━━━┳━━━━━━━━━━━━━━━┓\n",
              "┃<span style=\"font-weight: bold\"> Layer (type)                    </span>┃<span style=\"font-weight: bold\"> Output Shape           </span>┃<span style=\"font-weight: bold\">       Param # </span>┃\n",
              "┡━━━━━━━━━━━━━━━━━━━━━━━━━━━━━━━━━╇━━━━━━━━━━━━━━━━━━━━━━━━╇━━━━━━━━━━━━━━━┩\n",
              "│ dense_2 (<span style=\"color: #0087ff; text-decoration-color: #0087ff\">Dense</span>)                 │ (<span style=\"color: #00d7ff; text-decoration-color: #00d7ff\">None</span>, <span style=\"color: #00af00; text-decoration-color: #00af00\">100</span>)            │           <span style=\"color: #00af00; text-decoration-color: #00af00\">400</span> │\n",
              "├─────────────────────────────────┼────────────────────────┼───────────────┤\n",
              "│ dense_3 (<span style=\"color: #0087ff; text-decoration-color: #0087ff\">Dense</span>)                 │ (<span style=\"color: #00d7ff; text-decoration-color: #00d7ff\">None</span>, <span style=\"color: #00af00; text-decoration-color: #00af00\">1</span>)              │           <span style=\"color: #00af00; text-decoration-color: #00af00\">101</span> │\n",
              "└─────────────────────────────────┴────────────────────────┴───────────────┘\n",
              "</pre>\n"
            ]
          },
          "metadata": {}
        },
        {
          "output_type": "display_data",
          "data": {
            "text/plain": [
              "\u001b[1m Total params: \u001b[0m\u001b[38;5;34m501\u001b[0m (1.96 KB)\n"
            ],
            "text/html": [
              "<pre style=\"white-space:pre;overflow-x:auto;line-height:normal;font-family:Menlo,'DejaVu Sans Mono',consolas,'Courier New',monospace\"><span style=\"font-weight: bold\"> Total params: </span><span style=\"color: #00af00; text-decoration-color: #00af00\">501</span> (1.96 KB)\n",
              "</pre>\n"
            ]
          },
          "metadata": {}
        },
        {
          "output_type": "display_data",
          "data": {
            "text/plain": [
              "\u001b[1m Trainable params: \u001b[0m\u001b[38;5;34m501\u001b[0m (1.96 KB)\n"
            ],
            "text/html": [
              "<pre style=\"white-space:pre;overflow-x:auto;line-height:normal;font-family:Menlo,'DejaVu Sans Mono',consolas,'Courier New',monospace\"><span style=\"font-weight: bold\"> Trainable params: </span><span style=\"color: #00af00; text-decoration-color: #00af00\">501</span> (1.96 KB)\n",
              "</pre>\n"
            ]
          },
          "metadata": {}
        },
        {
          "output_type": "display_data",
          "data": {
            "text/plain": [
              "\u001b[1m Non-trainable params: \u001b[0m\u001b[38;5;34m0\u001b[0m (0.00 B)\n"
            ],
            "text/html": [
              "<pre style=\"white-space:pre;overflow-x:auto;line-height:normal;font-family:Menlo,'DejaVu Sans Mono',consolas,'Courier New',monospace\"><span style=\"font-weight: bold\"> Non-trainable params: </span><span style=\"color: #00af00; text-decoration-color: #00af00\">0</span> (0.00 B)\n",
              "</pre>\n"
            ]
          },
          "metadata": {}
        }
      ],
      "source": [
        "model = Sequential([\n",
        "    Input(shape=(3,)),\n",
        "    Dense(100, activation=\"relu\"),\n",
        "    Dense(1, activation=\"sigmoid\")\n",
        "])\n",
        "\n",
        "model.compile(optimizer=Adam(), loss=BinaryCrossentropy(), metrics=[\"accuracy\"])\n",
        "model.summary()"
      ]
    },
    {
      "cell_type": "code",
      "execution_count": null,
      "id": "7422a21f",
      "metadata": {
        "colab": {
          "base_uri": "https://localhost:8080/"
        },
        "id": "7422a21f",
        "outputId": "cebce5da-364d-418d-a686-37f56ff97bf4"
      },
      "outputs": [
        {
          "output_type": "stream",
          "name": "stdout",
          "text": [
            "Epoch 1/20\n",
            "\u001b[1m405/405\u001b[0m \u001b[32m━━━━━━━━━━━━━━━━━━━━\u001b[0m\u001b[37m\u001b[0m \u001b[1m3s\u001b[0m 4ms/step - accuracy: 0.8020 - loss: 0.5029\n",
            "Epoch 2/20\n",
            "\u001b[1m405/405\u001b[0m \u001b[32m━━━━━━━━━━━━━━━━━━━━\u001b[0m\u001b[37m\u001b[0m \u001b[1m2s\u001b[0m 2ms/step - accuracy: 0.7934 - loss: 0.4763\n",
            "Epoch 3/20\n",
            "\u001b[1m405/405\u001b[0m \u001b[32m━━━━━━━━━━━━━━━━━━━━\u001b[0m\u001b[37m\u001b[0m \u001b[1m1s\u001b[0m 2ms/step - accuracy: 0.7924 - loss: 0.4735\n",
            "Epoch 4/20\n",
            "\u001b[1m405/405\u001b[0m \u001b[32m━━━━━━━━━━━━━━━━━━━━\u001b[0m\u001b[37m\u001b[0m \u001b[1m1s\u001b[0m 2ms/step - accuracy: 0.7984 - loss: 0.4622\n",
            "Epoch 5/20\n",
            "\u001b[1m405/405\u001b[0m \u001b[32m━━━━━━━━━━━━━━━━━━━━\u001b[0m\u001b[37m\u001b[0m \u001b[1m2s\u001b[0m 3ms/step - accuracy: 0.7961 - loss: 0.4597\n",
            "Epoch 6/20\n",
            "\u001b[1m405/405\u001b[0m \u001b[32m━━━━━━━━━━━━━━━━━━━━\u001b[0m\u001b[37m\u001b[0m \u001b[1m1s\u001b[0m 3ms/step - accuracy: 0.7988 - loss: 0.4433\n",
            "Epoch 7/20\n",
            "\u001b[1m405/405\u001b[0m \u001b[32m━━━━━━━━━━━━━━━━━━━━\u001b[0m\u001b[37m\u001b[0m \u001b[1m1s\u001b[0m 3ms/step - accuracy: 0.7982 - loss: 0.4481\n",
            "Epoch 8/20\n",
            "\u001b[1m405/405\u001b[0m \u001b[32m━━━━━━━━━━━━━━━━━━━━\u001b[0m\u001b[37m\u001b[0m \u001b[1m1s\u001b[0m 2ms/step - accuracy: 0.8022 - loss: 0.4488\n",
            "Epoch 9/20\n",
            "\u001b[1m405/405\u001b[0m \u001b[32m━━━━━━━━━━━━━━━━━━━━\u001b[0m\u001b[37m\u001b[0m \u001b[1m1s\u001b[0m 2ms/step - accuracy: 0.7949 - loss: 0.4544\n",
            "Epoch 10/20\n",
            "\u001b[1m405/405\u001b[0m \u001b[32m━━━━━━━━━━━━━━━━━━━━\u001b[0m\u001b[37m\u001b[0m \u001b[1m1s\u001b[0m 2ms/step - accuracy: 0.7965 - loss: 0.4458\n",
            "Epoch 11/20\n",
            "\u001b[1m405/405\u001b[0m \u001b[32m━━━━━━━━━━━━━━━━━━━━\u001b[0m\u001b[37m\u001b[0m \u001b[1m1s\u001b[0m 2ms/step - accuracy: 0.7891 - loss: 0.4641\n",
            "Epoch 12/20\n",
            "\u001b[1m405/405\u001b[0m \u001b[32m━━━━━━━━━━━━━━━━━━━━\u001b[0m\u001b[37m\u001b[0m \u001b[1m1s\u001b[0m 2ms/step - accuracy: 0.7949 - loss: 0.4503\n",
            "Epoch 13/20\n",
            "\u001b[1m405/405\u001b[0m \u001b[32m━━━━━━━━━━━━━━━━━━━━\u001b[0m\u001b[37m\u001b[0m \u001b[1m1s\u001b[0m 2ms/step - accuracy: 0.8037 - loss: 0.4402\n",
            "Epoch 14/20\n",
            "\u001b[1m405/405\u001b[0m \u001b[32m━━━━━━━━━━━━━━━━━━━━\u001b[0m\u001b[37m\u001b[0m \u001b[1m1s\u001b[0m 2ms/step - accuracy: 0.7966 - loss: 0.4527\n",
            "Epoch 15/20\n",
            "\u001b[1m405/405\u001b[0m \u001b[32m━━━━━━━━━━━━━━━━━━━━\u001b[0m\u001b[37m\u001b[0m \u001b[1m1s\u001b[0m 2ms/step - accuracy: 0.8035 - loss: 0.4351\n",
            "Epoch 16/20\n",
            "\u001b[1m405/405\u001b[0m \u001b[32m━━━━━━━━━━━━━━━━━━━━\u001b[0m\u001b[37m\u001b[0m \u001b[1m1s\u001b[0m 2ms/step - accuracy: 0.8021 - loss: 0.4372\n",
            "Epoch 17/20\n",
            "\u001b[1m405/405\u001b[0m \u001b[32m━━━━━━━━━━━━━━━━━━━━\u001b[0m\u001b[37m\u001b[0m \u001b[1m2s\u001b[0m 3ms/step - accuracy: 0.8000 - loss: 0.4350\n",
            "Epoch 18/20\n",
            "\u001b[1m405/405\u001b[0m \u001b[32m━━━━━━━━━━━━━━━━━━━━\u001b[0m\u001b[37m\u001b[0m \u001b[1m1s\u001b[0m 3ms/step - accuracy: 0.7982 - loss: 0.4485\n",
            "Epoch 19/20\n",
            "\u001b[1m405/405\u001b[0m \u001b[32m━━━━━━━━━━━━━━━━━━━━\u001b[0m\u001b[37m\u001b[0m \u001b[1m1s\u001b[0m 2ms/step - accuracy: 0.7912 - loss: 0.4567\n",
            "Epoch 20/20\n",
            "\u001b[1m405/405\u001b[0m \u001b[32m━━━━━━━━━━━━━━━━━━━━\u001b[0m\u001b[37m\u001b[0m \u001b[1m1s\u001b[0m 2ms/step - accuracy: 0.7960 - loss: 0.4577\n"
          ]
        },
        {
          "output_type": "execute_result",
          "data": {
            "text/plain": [
              "<keras.src.callbacks.history.History at 0x79e8a45ff190>"
            ]
          },
          "metadata": {},
          "execution_count": 11
        }
      ],
      "source": [
        "model.fit(X_train, Y_train, batch_size=20, epochs=20)"
      ]
    },
    {
      "cell_type": "code",
      "execution_count": null,
      "id": "e9e276c5",
      "metadata": {
        "colab": {
          "base_uri": "https://localhost:8080/"
        },
        "id": "e9e276c5",
        "outputId": "e0516fb2-5cc5-49ea-9201-bac4e7cda0d7"
      },
      "outputs": [
        {
          "output_type": "stream",
          "name": "stdout",
          "text": [
            "\u001b[1m64/64\u001b[0m \u001b[32m━━━━━━━━━━━━━━━━━━━━\u001b[0m\u001b[37m\u001b[0m \u001b[1m0s\u001b[0m 2ms/step - accuracy: 0.7749 - loss: 0.4655\n"
          ]
        },
        {
          "output_type": "execute_result",
          "data": {
            "text/plain": [
              "[0.4535249173641205, 0.7822859883308411]"
            ]
          },
          "metadata": {},
          "execution_count": 12
        }
      ],
      "source": [
        "model.evaluate(X_test, Y_test)"
      ]
    },
    {
      "cell_type": "markdown",
      "source": [
        "**Paso 4 — Modelo de Red Neuronal simplificada**\n",
        "\n",
        "**Preguntas:**\n",
        "\n",
        "**¿Qué variables se usaron en el modelo simplificado?**\n",
        "\n",
        "avgGridPosition, avgPositionLift, pctPolewin.\n",
        "\n",
        "**¿Qué precisión se alcanzó ahora?**\n",
        "\n",
        "78.2%, lo que demuestra que, aunque se usaron menos variables, el modelo sigue siendo competitivo.\n",
        "\n",
        "**¿Mejoró o empeoró la precisión real?**\n",
        "\n",
        " Empeoró ligeramente respecto al modelo completo (según lo esperado), pero se mantiene dentro de un rango aceptable.\n"
      ],
      "metadata": {
        "id": "LLG7-2nZqskv"
      },
      "id": "LLG7-2nZqskv"
    },
    {
      "cell_type": "markdown",
      "id": "e352ec9f",
      "metadata": {
        "id": "e352ec9f"
      },
      "source": [
        "## Paso 5 — Visualización de predicciones"
      ]
    },
    {
      "cell_type": "code",
      "execution_count": null,
      "id": "a78161ad",
      "metadata": {
        "id": "a78161ad"
      },
      "outputs": [],
      "source": [
        "import matplotlib.pyplot as pyplot\n",
        "import seaborn as sns\n",
        "import numpy as np"
      ]
    },
    {
      "cell_type": "code",
      "execution_count": null,
      "id": "018a63e8",
      "metadata": {
        "colab": {
          "base_uri": "https://localhost:8080/",
          "height": 489
        },
        "id": "018a63e8",
        "outputId": "d07233ef-6483-470d-dfd2-5559ffc347cb"
      },
      "outputs": [
        {
          "output_type": "stream",
          "name": "stdout",
          "text": [
            "\u001b[1m2/2\u001b[0m \u001b[32m━━━━━━━━━━━━━━━━━━━━\u001b[0m\u001b[37m\u001b[0m \u001b[1m0s\u001b[0m 64ms/step\n"
          ]
        },
        {
          "output_type": "display_data",
          "data": {
            "text/plain": [
              "<Figure size 640x480 with 1 Axes>"
            ],
            "image/png": "[encoded data removed]"
          },
          "metadata": {}
        }
      ],
      "source": [
        "# avgGridPosition\n",
        "x1p = np.linspace(x1.min(), x1.max())\n",
        "yp = model.predict(np.array([x1p, np.ones_like(x1p)*x3.mean(), np.ones_like(x1p)*x5.mean()]).T)\n",
        "\n",
        "pyplot.scatter(x1, y)\n",
        "pyplot.plot(x1p, yp, \"r--\")\n",
        "pyplot.title(\"Probabilidad de abandono vs avgGridPosition\")\n",
        "pyplot.xlabel(\"avgGridPosition\")\n",
        "pyplot.ylabel(\"Probabilidad\")\n",
        "pyplot.grid(True)\n",
        "pyplot.show()"
      ]
    },
    {
      "cell_type": "code",
      "execution_count": null,
      "id": "f1e85f6a",
      "metadata": {
        "colab": {
          "base_uri": "https://localhost:8080/",
          "height": 489
        },
        "id": "f1e85f6a",
        "outputId": "04ad73c2-15ed-4955-b333-39721f4dd603"
      },
      "outputs": [
        {
          "output_type": "stream",
          "name": "stdout",
          "text": [
            "\u001b[1m2/2\u001b[0m \u001b[32m━━━━━━━━━━━━━━━━━━━━\u001b[0m\u001b[37m\u001b[0m \u001b[1m0s\u001b[0m 30ms/step\n"
          ]
        },
        {
          "output_type": "display_data",
          "data": {
            "text/plain": [
              "<Figure size 640x480 with 1 Axes>"
            ],
            "image/png": "[encoded data removed]"
          },
          "metadata": {}
        }
      ],
      "source": [
        "# avgPositionLift\n",
        "x3p = np.linspace(x3.min(), x3.max())\n",
        "yp = model.predict(np.array([np.ones_like(x3p)*x1.mean(), x3p, np.ones_like(x3p)*x5.mean()]).T)\n",
        "\n",
        "pyplot.scatter(x3, y)\n",
        "pyplot.plot(x3p, yp, \"b--\")\n",
        "pyplot.title(\"Probabilidad de abandono vs avgPositionLift\")\n",
        "pyplot.xlabel(\"avgPositionLift\")\n",
        "pyplot.ylabel(\"Probabilidad\")\n",
        "pyplot.grid(True)\n",
        "pyplot.show()"
      ]
    },
    {
      "cell_type": "code",
      "execution_count": null,
      "id": "2c0863b5",
      "metadata": {
        "colab": {
          "base_uri": "https://localhost:8080/",
          "height": 489
        },
        "id": "2c0863b5",
        "outputId": "ba0517e1-46dc-484b-8778-4fe079845e21"
      },
      "outputs": [
        {
          "output_type": "stream",
          "name": "stdout",
          "text": [
            "\u001b[1m2/2\u001b[0m \u001b[32m━━━━━━━━━━━━━━━━━━━━\u001b[0m\u001b[37m\u001b[0m \u001b[1m0s\u001b[0m 19ms/step\n"
          ]
        },
        {
          "output_type": "display_data",
          "data": {
            "text/plain": [
              "<Figure size 640x480 with 1 Axes>"
            ],
            "image/png": "[encoded data removed]"
          },
          "metadata": {}
        }
      ],
      "source": [
        "# pctPolewin\n",
        "x5p = np.linspace(x5.min(), x5.max())\n",
        "yp = model.predict(np.array([np.ones_like(x5p)*x1.mean(), np.ones_like(x5p)*x3.mean(), x5p]).T)\n",
        "\n",
        "pyplot.scatter(x5, y)\n",
        "pyplot.plot(x5p, yp, \"g--\")\n",
        "pyplot.title(\"Probabilidad de abandono vs pctPolewin\")\n",
        "pyplot.xlabel(\"pctPolewin\")\n",
        "pyplot.ylabel(\"Probabilidad\")\n",
        "pyplot.grid(True)\n",
        "pyplot.show()"
      ]
    },
    {
      "cell_type": "markdown",
      "id": "4a797b8c",
      "metadata": {
        "id": "4a797b8c"
      },
      "source": [
        "## Paso 6 — Predicciones simuladas"
      ]
    },
    {
      "cell_type": "code",
      "execution_count": null,
      "id": "f9e603d1",
      "metadata": {
        "colab": {
          "base_uri": "https://localhost:8080/"
        },
        "id": "f9e603d1",
        "outputId": "7dbf50f4-fcb9-431a-ba83-92d1926738d4"
      },
      "outputs": [
        {
          "output_type": "stream",
          "name": "stdout",
          "text": [
            "\u001b[1m1/1\u001b[0m \u001b[32m━━━━━━━━━━━━━━━━━━━━\u001b[0m\u001b[37m\u001b[0m \u001b[1m0s\u001b[0m 35ms/step\n"
          ]
        },
        {
          "output_type": "execute_result",
          "data": {
            "text/plain": [
              "array([[0.32146943],\n",
              "       [0.07374721],\n",
              "       [0.610305  ]], dtype=float32)"
            ]
          },
          "metadata": {},
          "execution_count": 17
        }
      ],
      "source": [
        "model.predict(np.array([\n",
        "    [18, 2.5, 0.05],\n",
        "    [12, 3.0, 0.10],\n",
        "    [20, 1.0, 0.00]\n",
        "]))"
      ]
    },
    {
      "cell_type": "markdown",
      "source": [
        "**¿Qué gráfica no parece muy acorde?**\n",
        "\n",
        "La de pctPolewin, ya que muchos pilotos podrían tener valores bajos o cero, haciendo difícil ver una relación clara en la gráfica.\n",
        "\n",
        "**¿A partir de qué nivel de avgPositionLift es casi improbable que haya abandono?**\n",
        "\n",
        "Cuando avgPositionLift supera las 2.5 posiciones ganadas por carrera, la probabilidad de abandono baja considerablemente (como mostró la predicción de 7%).\n",
        "\n",
        "**¿Cuál es la predicción más alta de abandono para una persona con bajo desempeño?**\n",
        "\n",
        "Un piloto con características como [20, 1.0, 0.00] tiene una probabilidad de abandono del 61%, según las predicciones del modelo."
      ],
      "metadata": {
        "id": "XxYDsTadsL1y"
      },
      "id": "XxYDsTadsL1y"
    },
    {
      "cell_type": "markdown",
      "id": "9bfe0040",
      "metadata": {
        "id": "9bfe0040"
      },
      "source": [
        "## Conclusiones\n",
        "Este proyecto final demostró que las redes neuronales son herramientas potentes y versátiles para resolver problemas de clasificación binaria en contextos reales, como la predicción de abandono en deportes de alto rendimiento.\n",
        "\n",
        "A través de este proyecto, logre:\n",
        "\n",
        "- Construir modelos neuronales completos y simplificados aplicando correctamente funciones de activación y pérdida.\n",
        "\n",
        "- Identificar variables clave del rendimiento que impactan en el abandono de pilotos.\n",
        "\n",
        "- Entrenar redes con eficiencia y evaluar su precisión de forma cuantitativa.\n",
        "\n",
        "- Visualizar y comprender cómo afectan las variables de entrada la salida del modelo.\n",
        "\n",
        "- Simular casos reales y analizar su probabilidad de abandono.\n",
        "\n",
        "Además, observe que un modelo simplificado puede mantener una precisión aceptable con menos variables, lo cual es útil cuando se busca eficiencia sin perder interpretabilidad. Las gráficas nos permitieron validar visualmente el comportamiento del modelo y reforzar la comprensión del fenómeno analizado.\n",
        "\n",
        "Gracias al contenido del curso, pude aplicar técnicas avanzadas con claridad y rigor, replicando un flujo de trabajo profesional de ciencia de datos. Este tipo de conocimiento tiene aplicaciones en muchos otros ámbitos como marketing, salud, educación o recursos humanos, lo que resalta el valor práctico y transversal de las redes neuronales."
      ]
    }
  ],
  "metadata": {
    "colab": {
      "provenance": []
    },
    "language_info": {
      "name": "python"
    },
    "kernelspec": {
      "name": "python3",
      "display_name": "Python 3"
    }
  },
  "nbformat": 4,
  "nbformat_minor": 5
}